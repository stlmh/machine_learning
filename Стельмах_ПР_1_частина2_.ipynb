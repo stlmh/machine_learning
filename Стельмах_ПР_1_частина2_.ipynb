{
  "nbformat": 4,
  "nbformat_minor": 0,
  "metadata": {
    "colab": {
      "provenance": [],
      "authorship_tag": "ABX9TyPyfMDj5MY7NcqrrG+Or1SW",
      "include_colab_link": true
    },
    "kernelspec": {
      "name": "python3",
      "display_name": "Python 3"
    },
    "language_info": {
      "name": "python"
    }
  },
  "cells": [
    {
      "cell_type": "markdown",
      "metadata": {
        "id": "view-in-github",
        "colab_type": "text"
      },
      "source": [
        "<a href=\"https://colab.research.google.com/github/stlmh/machine_learning/blob/main/%D0%A1%D1%82%D0%B5%D0%BB%D1%8C%D0%BC%D0%B0%D1%85_%D0%9F%D0%A0_1_%D1%87%D0%B0%D1%81%D1%82%D0%B8%D0%BD%D0%B02_.ipynb\" target=\"_parent\"><img src=\"https://colab.research.google.com/assets/colab-badge.svg\" alt=\"Open In Colab\"/></a>"
      ]
    },
    {
      "cell_type": "code",
      "execution_count": 1,
      "metadata": {
        "id": "_TBsYA4kXqM8"
      },
      "outputs": [],
      "source": [
        "import numpy as np"
      ]
    },
    {
      "cell_type": "markdown",
      "source": [
        "**Завдання 1**\n",
        "Задати вектор, що складається з перших п'яти натуральних чисел."
      ],
      "metadata": {
        "id": "8cJmidtdYOL-"
      }
    },
    {
      "cell_type": "code",
      "source": [
        "vector = np.array([1, 2, 3, 4, 5])\n",
        "print(vector)"
      ],
      "metadata": {
        "colab": {
          "base_uri": "https://localhost:8080/"
        },
        "id": "ct3naciqYLnT",
        "outputId": "f9e82920-1096-4b48-cda0-132608daaa32"
      },
      "execution_count": 2,
      "outputs": [
        {
          "output_type": "stream",
          "name": "stdout",
          "text": [
            "[1 2 3 4 5]\n"
          ]
        }
      ]
    },
    {
      "cell_type": "markdown",
      "source": [
        "**Завдання 2**\n",
        "Транспонувати вектор."
      ],
      "metadata": {
        "id": "hePMXPBbYZjj"
      }
    },
    {
      "cell_type": "code",
      "source": [
        "v1 = np.matrix([1, 2, 3, 4, 5])\n",
        "print(v1)\n",
        "\n",
        "v2 = v1.T\n",
        "v2"
      ],
      "metadata": {
        "colab": {
          "base_uri": "https://localhost:8080/"
        },
        "id": "GbRcGK3hYdD8",
        "outputId": "e53623ca-ad23-4e75-d6c3-99537c058f40"
      },
      "execution_count": 6,
      "outputs": [
        {
          "output_type": "stream",
          "name": "stdout",
          "text": [
            "[[1 2 3 4 5]]\n"
          ]
        },
        {
          "output_type": "execute_result",
          "data": {
            "text/plain": [
              "matrix([[1],\n",
              "        [2],\n",
              "        [3],\n",
              "        [4],\n",
              "        [5]])"
            ]
          },
          "metadata": {},
          "execution_count": 6
        }
      ]
    },
    {
      "cell_type": "markdown",
      "source": [
        "**Завдання 3**\n",
        "Напишіть функцію, яка перевертає вектор у зворотному порядку"
      ],
      "metadata": {
        "id": "HvQbHDZBYtOd"
      }
    },
    {
      "cell_type": "code",
      "source": [
        "v = np.array([1, 2, 3, 4, 5])\n",
        "print(v[::-1])"
      ],
      "metadata": {
        "colab": {
          "base_uri": "https://localhost:8080/"
        },
        "id": "R-wV0VpsYtf_",
        "outputId": "1853b48e-e05b-41d8-be31-d399c0c66ba0"
      },
      "execution_count": 7,
      "outputs": [
        {
          "output_type": "stream",
          "name": "stdout",
          "text": [
            "[5 4 3 2 1]\n"
          ]
        }
      ]
    },
    {
      "cell_type": "markdown",
      "source": [
        "**Завдання 4** Обчислити середнє значення вектора"
      ],
      "metadata": {
        "id": "xcD4AFQFYLfI"
      }
    },
    {
      "cell_type": "code",
      "source": [
        "print(np.mean(v))"
      ],
      "metadata": {
        "colab": {
          "base_uri": "https://localhost:8080/"
        },
        "id": "ghb84ahZYudx",
        "outputId": "ec6e4eec-a4f3-42d8-8377-b11b2c17ece7"
      },
      "execution_count": 8,
      "outputs": [
        {
          "output_type": "stream",
          "name": "stdout",
          "text": [
            "3.0\n"
          ]
        }
      ]
    },
    {
      "cell_type": "markdown",
      "source": [
        "**Завдання 5** Знайти найбільший і найменший елементи вектора"
      ],
      "metadata": {
        "id": "n9qC2aR8bcX-"
      }
    },
    {
      "cell_type": "code",
      "source": [
        "print(np.max(v))\n",
        "print(np.min(v))"
      ],
      "metadata": {
        "colab": {
          "base_uri": "https://localhost:8080/"
        },
        "id": "cv4X1pNsbcrW",
        "outputId": "92b2145a-0a38-42e6-cd64-78fe76b6e9ed"
      },
      "execution_count": 9,
      "outputs": [
        {
          "output_type": "stream",
          "name": "stdout",
          "text": [
            "5\n",
            "1\n"
          ]
        }
      ]
    },
    {
      "cell_type": "markdown",
      "source": [
        "**Завдання 6** Обчислити скалярний добуток (dot product) двох векторів"
      ],
      "metadata": {
        "id": "UvWslEXTbp41"
      }
    },
    {
      "cell_type": "code",
      "source": [
        "v1 = np.array([1, 2, 3])\n",
        "v2 = np.array([4, 5, 6])\n",
        "\n",
        "print(np.dot(v1, v2))\n",
        "print(v1*v2)"
      ],
      "metadata": {
        "colab": {
          "base_uri": "https://localhost:8080/"
        },
        "id": "t9FFV54vbsuQ",
        "outputId": "9cee519d-c8bb-4194-a7e4-3cfcbf1db04b"
      },
      "execution_count": 14,
      "outputs": [
        {
          "output_type": "stream",
          "name": "stdout",
          "text": [
            "32\n",
            "[ 4 10 18]\n"
          ]
        }
      ]
    },
    {
      "cell_type": "markdown",
      "source": [
        "**Завдання 7** Написати функцію, яка нормалізує вектор"
      ],
      "metadata": {
        "id": "BX9DngJLbxps"
      }
    },
    {
      "cell_type": "code",
      "source": [
        "from numpy import linalg as LA"
      ],
      "metadata": {
        "id": "Y22R2gB0cSKe"
      },
      "execution_count": 12,
      "outputs": []
    },
    {
      "cell_type": "code",
      "source": [
        "v = np.array([1, 2, 3, 4, 5])\n",
        "norm = np.linalg.norm(v)\n",
        "\n",
        "print(norm)\n",
        "\n",
        "v / norm"
      ],
      "metadata": {
        "colab": {
          "base_uri": "https://localhost:8080/"
        },
        "id": "VUpR48gVbx96",
        "outputId": "9fc1dc5f-7836-4e55-fa9d-6e3ed818213b"
      },
      "execution_count": 15,
      "outputs": [
        {
          "output_type": "stream",
          "name": "stdout",
          "text": [
            "7.416198487095663\n"
          ]
        },
        {
          "output_type": "execute_result",
          "data": {
            "text/plain": [
              "array([0.13483997, 0.26967994, 0.40451992, 0.53935989, 0.67419986])"
            ]
          },
          "metadata": {},
          "execution_count": 15
        }
      ]
    },
    {
      "cell_type": "markdown",
      "source": [
        "**Завдання 8** Перевірка ортогональності векторів"
      ],
      "metadata": {
        "id": "HDQaxKI-cXg0"
      }
    },
    {
      "cell_type": "code",
      "source": [
        "v1 = np.array([1, 0, 0])\n",
        "v2 = np.array([0, 1, 0])\n",
        "\n",
        "np.dot(v1, v2)"
      ],
      "metadata": {
        "colab": {
          "base_uri": "https://localhost:8080/"
        },
        "id": "6RLs5tLCeS_s",
        "outputId": "5cd47a1d-a531-4cec-d6ab-b8f920f15acc"
      },
      "execution_count": 16,
      "outputs": [
        {
          "output_type": "execute_result",
          "data": {
            "text/plain": [
              "np.int64(0)"
            ]
          },
          "metadata": {},
          "execution_count": 16
        }
      ]
    },
    {
      "cell_type": "markdown",
      "source": [
        "**Завдання 9** Визначити унікальні елементи вектора"
      ],
      "metadata": {
        "id": "_rI1iDg0ecwH"
      }
    },
    {
      "cell_type": "code",
      "source": [
        "v = np.array([1, 2, 3, 2, 4, 5, 3])\n",
        "np.unique(v)"
      ],
      "metadata": {
        "colab": {
          "base_uri": "https://localhost:8080/"
        },
        "id": "_t-hkMFgfSD7",
        "outputId": "04c6337c-a04d-4cee-b809-74e4fe4ef7a1"
      },
      "execution_count": 17,
      "outputs": [
        {
          "output_type": "execute_result",
          "data": {
            "text/plain": [
              "array([1, 2, 3, 4, 5])"
            ]
          },
          "metadata": {},
          "execution_count": 17
        }
      ]
    },
    {
      "cell_type": "markdown",
      "source": [
        "**Завдання 10** Знайти вектор , що є різницею між двома векторами"
      ],
      "metadata": {
        "id": "pByZ6sTCfduf"
      }
    },
    {
      "cell_type": "code",
      "source": [
        "v1 = np.array([1, 2, 3])\n",
        "v2 = np.array([4, 5, 6])\n",
        "\n",
        "print(v1 - v2)\n",
        "print(v2 - v1)\n",
        "print(v1 + v2)\n",
        "print(v2 + v1)\n",
        "print(v1 * v2)\n",
        "print(v2 * v1)\n",
        "print(v1 / v2)\n",
        "print(v2 / v1)"
      ],
      "metadata": {
        "colab": {
          "base_uri": "https://localhost:8080/"
        },
        "id": "VOZ-gi22fzVE",
        "outputId": "11e561aa-00eb-4737-ba36-424b53e9db64"
      },
      "execution_count": 18,
      "outputs": [
        {
          "output_type": "stream",
          "name": "stdout",
          "text": [
            "[-3 -3 -3]\n",
            "[3 3 3]\n",
            "[5 7 9]\n",
            "[5 7 9]\n",
            "[ 4 10 18]\n",
            "[ 4 10 18]\n",
            "[0.25 0.4  0.5 ]\n",
            "[4.  2.5 2. ]\n"
          ]
        }
      ]
    },
    {
      "cell_type": "markdown",
      "source": [
        "**Завдання 11** Перевірити, чи дорівнює довжина вектора 5"
      ],
      "metadata": {
        "id": "N32wbbH-gT72"
      }
    },
    {
      "cell_type": "code",
      "source": [
        "vector = np.array([1, 2, 3, 4, 5])\n",
        "length = np.linalg.norm(vector)\n",
        "\n",
        "np.isclose(length, 5)"
      ],
      "metadata": {
        "colab": {
          "base_uri": "https://localhost:8080/"
        },
        "id": "IgooPhswghwZ",
        "outputId": "b5efff3d-bf24-4d30-e2af-18d498a36154"
      },
      "execution_count": 20,
      "outputs": [
        {
          "output_type": "execute_result",
          "data": {
            "text/plain": [
              "np.False_"
            ]
          },
          "metadata": {},
          "execution_count": 20
        }
      ]
    },
    {
      "cell_type": "markdown",
      "source": [
        "**Завдання 12** Задати матрицю, заповнену випадковими числами"
      ],
      "metadata": {
        "id": "HEZIs7FihvcA"
      }
    },
    {
      "cell_type": "code",
      "source": [
        "a = np.random.randint(0, 11, (3, 3))\n",
        "a"
      ],
      "metadata": {
        "colab": {
          "base_uri": "https://localhost:8080/"
        },
        "id": "BR-Y1V29h199",
        "outputId": "d239a695-f224-4066-9949-c966e9e54b20"
      },
      "execution_count": 27,
      "outputs": [
        {
          "output_type": "execute_result",
          "data": {
            "text/plain": [
              "array([[7, 3, 5],\n",
              "       [5, 6, 3],\n",
              "       [2, 9, 7]])"
            ]
          },
          "metadata": {},
          "execution_count": 27
        }
      ]
    },
    {
      "cell_type": "markdown",
      "source": [
        "**Завдання 13** Обчислення визначиник матриці"
      ],
      "metadata": {
        "id": "PSnkfxumh_z2"
      }
    },
    {
      "cell_type": "code",
      "source": [
        "np.linalg.det(a)"
      ],
      "metadata": {
        "colab": {
          "base_uri": "https://localhost:8080/"
        },
        "id": "SWV3OE7uiEeB",
        "outputId": "d4a1a16a-d872-4689-a224-c27dff06a899"
      },
      "execution_count": 28,
      "outputs": [
        {
          "output_type": "execute_result",
          "data": {
            "text/plain": [
              "np.float64(183.00000000000009)"
            ]
          },
          "metadata": {},
          "execution_count": 28
        }
      ]
    },
    {
      "cell_type": "markdown",
      "source": [
        "**Завдання 14** Знаходження оберненої матриці"
      ],
      "metadata": {
        "id": "T1MczYv6iE6k"
      }
    },
    {
      "cell_type": "code",
      "source": [
        "np.linalg.inv(a)"
      ],
      "metadata": {
        "colab": {
          "base_uri": "https://localhost:8080/"
        },
        "id": "cxls7k-7iHuA",
        "outputId": "2b41bd62-3f91-4faa-c3f1-250cf5559cbd"
      },
      "execution_count": 29,
      "outputs": [
        {
          "output_type": "execute_result",
          "data": {
            "text/plain": [
              "array([[ 0.08196721,  0.13114754, -0.1147541 ],\n",
              "       [-0.15846995,  0.21311475,  0.02185792],\n",
              "       [ 0.18032787, -0.31147541,  0.14754098]])"
            ]
          },
          "metadata": {},
          "execution_count": 29
        }
      ]
    },
    {
      "cell_type": "markdown",
      "source": [
        "**Завдання 15** Розв'язати систему лінійних рівнянь"
      ],
      "metadata": {
        "id": "aGqRGS4oiIGv"
      }
    },
    {
      "cell_type": "code",
      "source": [
        "a = np.array([[1, 3, -4], [0, 2, -3], [-2, 2, 5]])\n",
        "b = np.array([5, 3, 4])\n",
        "\n",
        "x = np.linalg.solve(a, b)\n",
        "print(x)\n",
        "\n",
        "inv_a = np.linalg.inv(a)\n",
        "x1 = inv_a.dot(b)\n",
        "print(x1)"
      ],
      "metadata": {
        "colab": {
          "base_uri": "https://localhost:8080/"
        },
        "id": "Q9hbC44OiJUS",
        "outputId": "f0d4d7ae-3c9e-4dbb-e828-b74d83c6edc7"
      },
      "execution_count": 30,
      "outputs": [
        {
          "output_type": "stream",
          "name": "stdout",
          "text": [
            "[0.38888889 1.83333333 0.22222222]\n",
            "[0.38888889 1.83333333 0.22222222]\n"
          ]
        }
      ]
    },
    {
      "cell_type": "markdown",
      "source": [
        "**Завдання 16** Множення двох матриць"
      ],
      "metadata": {
        "id": "EOrQxYeLiJ8o"
      }
    },
    {
      "cell_type": "code",
      "source": [
        "a = np.array([[1, 3, -4], [0, 2, -3], [-2, 2, 5]])\n",
        "b = np.array([5, 3, 4])\n",
        "\n",
        "np.dot(a, b)"
      ],
      "metadata": {
        "colab": {
          "base_uri": "https://localhost:8080/"
        },
        "id": "glxnSL6qiLMV",
        "outputId": "cfc6f554-fd1e-4618-8886-0d94e92b49d0"
      },
      "execution_count": 31,
      "outputs": [
        {
          "output_type": "execute_result",
          "data": {
            "text/plain": [
              "array([-2, -6, 16])"
            ]
          },
          "metadata": {},
          "execution_count": 31
        }
      ]
    },
    {
      "cell_type": "code",
      "source": [
        "a = np.matrix([[1, 3, -4], [0, 2, -3]])\n",
        "b = np.matrix([[5, 3, 4], [2, 3, 5], [3, 2, 3]])\n",
        "print(a)\n",
        "print(b)\n",
        "print(np.dot(a, b))"
      ],
      "metadata": {
        "colab": {
          "base_uri": "https://localhost:8080/"
        },
        "id": "IHHAxCkTk189",
        "outputId": "169f6e34-0ee5-4c8f-ca0c-6597f2d5a535"
      },
      "execution_count": 32,
      "outputs": [
        {
          "output_type": "stream",
          "name": "stdout",
          "text": [
            "[[ 1  3 -4]\n",
            " [ 0  2 -3]]\n",
            "[[5 3 4]\n",
            " [2 3 5]\n",
            " [3 2 3]]\n",
            "[[-1  4  7]\n",
            " [-5  0  1]]\n"
          ]
        }
      ]
    },
    {
      "cell_type": "markdown",
      "source": [
        "**Завдання 17** Транспонування матриць"
      ],
      "metadata": {
        "id": "OtT9tXXyiMjK"
      }
    },
    {
      "cell_type": "code",
      "source": [
        "print(a.T)\n",
        "print(b.T)"
      ],
      "metadata": {
        "colab": {
          "base_uri": "https://localhost:8080/"
        },
        "id": "RxZo1dIUiOBy",
        "outputId": "f5e5ad67-44bf-40ca-dd1d-d36e5c458516"
      },
      "execution_count": 33,
      "outputs": [
        {
          "output_type": "stream",
          "name": "stdout",
          "text": [
            "[[ 1  0]\n",
            " [ 3  2]\n",
            " [-4 -3]]\n",
            "[[5 2 3]\n",
            " [3 3 2]\n",
            " [4 5 3]]\n"
          ]
        }
      ]
    },
    {
      "cell_type": "code",
      "source": [
        "print(np.transpose(a))\n",
        "print(np.transpose(b))"
      ],
      "metadata": {
        "colab": {
          "base_uri": "https://localhost:8080/"
        },
        "id": "T_r4kr8zl91U",
        "outputId": "b8b61321-7af2-4c75-bdb9-0a90b860f79a"
      },
      "execution_count": 34,
      "outputs": [
        {
          "output_type": "stream",
          "name": "stdout",
          "text": [
            "[[ 1  0]\n",
            " [ 3  2]\n",
            " [-4 -3]]\n",
            "[[5 2 3]\n",
            " [3 3 2]\n",
            " [4 5 3]]\n"
          ]
        }
      ]
    },
    {
      "cell_type": "markdown",
      "source": [
        "**Завдання 18** Перевірка симетричності матриці"
      ],
      "metadata": {
        "id": "_GsRj-88iOqL"
      }
    },
    {
      "cell_type": "code",
      "source": [
        "matrix = np.matrix([[2, 2, 2],[2, 2, 2],[2, 2, 2]])\n",
        "\n",
        "np.allclose(matrix, matrix.T)"
      ],
      "metadata": {
        "colab": {
          "base_uri": "https://localhost:8080/"
        },
        "id": "lFZYNJeBiS3j",
        "outputId": "f6a53cfe-d394-497d-c09c-1e6b23c6e033"
      },
      "execution_count": 35,
      "outputs": [
        {
          "output_type": "execute_result",
          "data": {
            "text/plain": [
              "True"
            ]
          },
          "metadata": {},
          "execution_count": 35
        }
      ]
    },
    {
      "cell_type": "markdown",
      "source": [
        "**Завдання 19** Обчислення сліду матриці"
      ],
      "metadata": {
        "id": "Dza3FPJrkeDn"
      }
    },
    {
      "cell_type": "code",
      "source": [
        "np.trace(matrix)"
      ],
      "metadata": {
        "colab": {
          "base_uri": "https://localhost:8080/"
        },
        "id": "ZOhtESNVkeZU",
        "outputId": "89a0962a-096a-4a28-e77e-8eec20bf1e7a"
      },
      "execution_count": 36,
      "outputs": [
        {
          "output_type": "execute_result",
          "data": {
            "text/plain": [
              "np.int64(6)"
            ]
          },
          "metadata": {},
          "execution_count": 36
        }
      ]
    },
    {
      "cell_type": "markdown",
      "source": [
        "**Завдання 20** Сума матриць"
      ],
      "metadata": {
        "id": "15Z5aP1VkexK"
      }
    },
    {
      "cell_type": "code",
      "source": [
        "a = np.matrix([[1, 2], [3, 4]])\n",
        "b = np.matrix([[5, 6], [7, 8]])\n",
        "\n",
        "print(np.add(a, b))\n",
        "print(np.subtract(a, b))\n",
        "print(np.multiply(a, b))\n",
        "print(np.divide(a, b))"
      ],
      "metadata": {
        "colab": {
          "base_uri": "https://localhost:8080/"
        },
        "id": "XZbKJbrbkfHl",
        "outputId": "0282b1b3-4f06-4cf5-f9aa-01de6a61d1f6"
      },
      "execution_count": 37,
      "outputs": [
        {
          "output_type": "stream",
          "name": "stdout",
          "text": [
            "[[ 6  8]\n",
            " [10 12]]\n",
            "[[-4 -4]\n",
            " [-4 -4]]\n",
            "[[ 5 12]\n",
            " [21 32]]\n",
            "[[0.2        0.33333333]\n",
            " [0.42857143 0.5       ]]\n"
          ]
        }
      ]
    },
    {
      "cell_type": "markdown",
      "source": [
        "**Завдання 21** Піднесення матриці до степеня"
      ],
      "metadata": {
        "id": "85EwB2hukfRu"
      }
    },
    {
      "cell_type": "code",
      "source": [
        "a = np.matrix([[1, 2], [3, 4]])\n",
        "\n",
        "np.linalg.matrix_power(a, 2)"
      ],
      "metadata": {
        "colab": {
          "base_uri": "https://localhost:8080/"
        },
        "id": "-RL6PwFvkfqc",
        "outputId": "14bcbb17-ee7d-4980-8a5f-44c5e9ef88e5"
      },
      "execution_count": 38,
      "outputs": [
        {
          "output_type": "execute_result",
          "data": {
            "text/plain": [
              "matrix([[ 7, 10],\n",
              "        [15, 22]])"
            ]
          },
          "metadata": {},
          "execution_count": 38
        }
      ]
    },
    {
      "cell_type": "markdown",
      "source": [
        "**Завдання 22** Сортування рядків або стовпців матриці"
      ],
      "metadata": {
        "id": "YGfirFZdkf38"
      }
    },
    {
      "cell_type": "code",
      "source": [
        "b = np.matrix([[5, 3, 4], [2, 3, 5], [3, 2, 3]])\n",
        "\n",
        "print(b)\n",
        "print(np.sort(b, axis=0))\n",
        "print(np.sort(b, axis=1))\n",
        "print(np.sort(b, axis=None))"
      ],
      "metadata": {
        "colab": {
          "base_uri": "https://localhost:8080/"
        },
        "id": "qSKuyCPukgUC",
        "outputId": "edd9ce73-8dd4-467d-de23-763e9bfb280a"
      },
      "execution_count": 39,
      "outputs": [
        {
          "output_type": "stream",
          "name": "stdout",
          "text": [
            "[[5 3 4]\n",
            " [2 3 5]\n",
            " [3 2 3]]\n",
            "[[2 2 3]\n",
            " [3 3 4]\n",
            " [5 3 5]]\n",
            "[[3 4 5]\n",
            " [2 3 5]\n",
            " [2 3 3]]\n",
            "[[2 2 3 3 3 3 4 5 5]]\n"
          ]
        }
      ]
    },
    {
      "cell_type": "code",
      "source": [
        "a = np.array([[1,4],[3,1]])\n",
        "\n",
        "print(a)\n",
        "print(np.sort(a))"
      ],
      "metadata": {
        "colab": {
          "base_uri": "https://localhost:8080/"
        },
        "id": "Aa3QqPtzp3hL",
        "outputId": "359e473a-c31a-4c4c-fd0c-74171c0db50c"
      },
      "execution_count": 43,
      "outputs": [
        {
          "output_type": "stream",
          "name": "stdout",
          "text": [
            "[[1 4]\n",
            " [3 1]]\n",
            "[[1 4]\n",
            " [1 3]]\n"
          ]
        }
      ]
    },
    {
      "cell_type": "code",
      "source": [
        "print(np.sort(a, axis=0))\n",
        "print(np.sort(a, axis=1))"
      ],
      "metadata": {
        "colab": {
          "base_uri": "https://localhost:8080/"
        },
        "id": "Ur0fN2sTp8hw",
        "outputId": "7280d0da-f81a-4025-cfe6-b16e89556079"
      },
      "execution_count": 44,
      "outputs": [
        {
          "output_type": "stream",
          "name": "stdout",
          "text": [
            "[[1 1]\n",
            " [3 4]]\n",
            "[[1 4]\n",
            " [1 3]]\n"
          ]
        }
      ]
    },
    {
      "cell_type": "markdown",
      "source": [
        "**Завдання 23** Підрахуй суму елементів кожного рядка матриці. Відповідь запиши, як вектор-стовпчик."
      ],
      "metadata": {
        "id": "nlkAgcQMkl8R"
      }
    },
    {
      "cell_type": "code",
      "source": [
        "row_sums = np.sum(a, axis=1).reshape(-1, 1)\n",
        "\n",
        "print(\"Сума елементів кожного рядка:\")\n",
        "print(row_sums)"
      ],
      "metadata": {
        "colab": {
          "base_uri": "https://localhost:8080/"
        },
        "id": "y8ulPD0gkoBZ",
        "outputId": "febe9458-d718-477b-d005-52a154e136c3"
      },
      "execution_count": 45,
      "outputs": [
        {
          "output_type": "stream",
          "name": "stdout",
          "text": [
            "Сума елементів кожного рядка:\n",
            "[[5]\n",
            " [4]]\n"
          ]
        }
      ]
    }
  ]
}