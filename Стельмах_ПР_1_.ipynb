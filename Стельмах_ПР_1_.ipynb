{
  "nbformat": 4,
  "nbformat_minor": 0,
  "metadata": {
    "colab": {
      "provenance": [],
      "authorship_tag": "ABX9TyPQ9RESu9dipHPAOM+X7Cvj",
      "include_colab_link": true
    },
    "kernelspec": {
      "name": "python3",
      "display_name": "Python 3"
    },
    "language_info": {
      "name": "python"
    }
  },
  "cells": [
    {
      "cell_type": "markdown",
      "metadata": {
        "id": "view-in-github",
        "colab_type": "text"
      },
      "source": [
        "<a href=\"https://colab.research.google.com/github/stlmh/machine_learning/blob/main/%D0%A1%D1%82%D0%B5%D0%BB%D1%8C%D0%BC%D0%B0%D1%85_%D0%9F%D0%A0_1_.ipynb\" target=\"_parent\"><img src=\"https://colab.research.google.com/assets/colab-badge.svg\" alt=\"Open In Colab\"/></a>"
      ]
    },
    {
      "cell_type": "markdown",
      "source": [
        "# **ПР_1_МН**\n",
        "08.09.2025"
      ],
      "metadata": {
        "id": "UtZI1NfnY1lB"
      }
    },
    {
      "cell_type": "code",
      "execution_count": null,
      "metadata": {
        "colab": {
          "base_uri": "https://localhost:8080/",
          "height": 35
        },
        "id": "T6YAFTqWYu--",
        "outputId": "765019ec-b07c-4acc-a032-5b387f7830d4"
      },
      "outputs": [
        {
          "output_type": "execute_result",
          "data": {
            "text/plain": [
              "'2.0.2'"
            ],
            "application/vnd.google.colaboratory.intrinsic+json": {
              "type": "string"
            }
          },
          "metadata": {},
          "execution_count": 1
        }
      ],
      "source": [
        "import numpy as np\n",
        "np.__version__"
      ]
    },
    {
      "cell_type": "markdown",
      "source": [
        "1. Створи матрицю 3*3, заповни її цілими випадковими числами від 1 до 5"
      ],
      "metadata": {
        "id": "DNJ4H-I-chwd"
      }
    },
    {
      "cell_type": "code",
      "source": [
        "matrix = np.random.randint(1, 6, size=(3, 3))\n",
        "matrix"
      ],
      "metadata": {
        "colab": {
          "base_uri": "https://localhost:8080/"
        },
        "id": "XHcnb9F6YzuP",
        "outputId": "9168a8c0-0721-4c0b-fe10-32b855e2c750"
      },
      "execution_count": null,
      "outputs": [
        {
          "output_type": "execute_result",
          "data": {
            "text/plain": [
              "array([[4, 2, 2],\n",
              "       [1, 3, 5],\n",
              "       [4, 1, 2]])"
            ]
          },
          "metadata": {},
          "execution_count": 8
        }
      ]
    },
    {
      "cell_type": "markdown",
      "source": [
        "2. Обчислити визначник матриці"
      ],
      "metadata": {
        "id": "yNWIUaqycoZJ"
      }
    },
    {
      "cell_type": "code",
      "source": [
        "det = np.linalg.det(matrix)\n",
        "det"
      ],
      "metadata": {
        "colab": {
          "base_uri": "https://localhost:8080/"
        },
        "id": "74f8XztDcqV-",
        "outputId": "8144268f-6e94-4ad6-b65d-bf3268270b3b"
      },
      "execution_count": null,
      "outputs": [
        {
          "output_type": "execute_result",
          "data": {
            "text/plain": [
              "np.float64(18.000000000000004)"
            ]
          },
          "metadata": {},
          "execution_count": 9
        }
      ]
    },
    {
      "cell_type": "markdown",
      "source": [
        "3. Знайти добуток всіх елементів матриці"
      ],
      "metadata": {
        "id": "fM9FeWTWcwB1"
      }
    },
    {
      "cell_type": "code",
      "source": [
        "product = np.prod(matrix)\n",
        "product"
      ],
      "metadata": {
        "colab": {
          "base_uri": "https://localhost:8080/"
        },
        "id": "t9J7MvmFcwiy",
        "outputId": "1ea2b202-f578-4e6e-ab4c-8ad513e40dc3"
      },
      "execution_count": null,
      "outputs": [
        {
          "output_type": "execute_result",
          "data": {
            "text/plain": [
              "np.int64(1920)"
            ]
          },
          "metadata": {},
          "execution_count": 11
        }
      ]
    },
    {
      "cell_type": "code",
      "source": [
        "prod_1 = np.prod(matrix[0])\n",
        "prod_2 = np.prod(matrix[1])\n",
        "prod_3 = np.prod(matrix[2])\n",
        "prod_1*prod_2*prod_3"
      ],
      "metadata": {
        "colab": {
          "base_uri": "https://localhost:8080/"
        },
        "id": "T492XO5Mc3kI",
        "outputId": "4aed68ad-fbae-4adf-9b22-53461f621ef6"
      },
      "execution_count": null,
      "outputs": [
        {
          "output_type": "execute_result",
          "data": {
            "text/plain": [
              "np.int64(1920)"
            ]
          },
          "metadata": {},
          "execution_count": 12
        }
      ]
    },
    {
      "cell_type": "markdown",
      "source": [
        "4. Знайти суму всіх елементів матриці"
      ],
      "metadata": {
        "id": "nZ14tgHPfyCG"
      }
    },
    {
      "cell_type": "code",
      "source": [
        "sum = np.sum(matrix)\n",
        "sum"
      ],
      "metadata": {
        "colab": {
          "base_uri": "https://localhost:8080/"
        },
        "id": "udEmjlBKfzoQ",
        "outputId": "c52b2958-20b9-4e5c-dacd-38c10201e41a"
      },
      "execution_count": null,
      "outputs": [
        {
          "output_type": "execute_result",
          "data": {
            "text/plain": [
              "np.int64(24)"
            ]
          },
          "metadata": {},
          "execution_count": 13
        }
      ]
    },
    {
      "cell_type": "markdown",
      "source": [
        "5. Обчислити найбільший, найменший елементи"
      ],
      "metadata": {
        "id": "rjGYgDJNf1yi"
      }
    },
    {
      "cell_type": "code",
      "source": [
        "max_element = np.max(matrix)\n",
        "print(\"Найбільший елемент матриці:\", max_element)\n",
        "\n",
        "min_element = np.min(matrix)\n",
        "print(\"Найменший елемент матриці:\", min_element)"
      ],
      "metadata": {
        "colab": {
          "base_uri": "https://localhost:8080/"
        },
        "id": "api8iuYpf2Vi",
        "outputId": "b5e4ac18-eb5c-4b0c-d429-8c59ba6ac022"
      },
      "execution_count": null,
      "outputs": [
        {
          "output_type": "stream",
          "name": "stdout",
          "text": [
            "Найбільший елемент матриці: 5\n",
            "Найменший елемент матриці: 1\n"
          ]
        }
      ]
    },
    {
      "cell_type": "markdown",
      "source": [
        "6. Знайти середнє значення елементів матриці"
      ],
      "metadata": {
        "id": "_ieu4e_wgF8T"
      }
    },
    {
      "cell_type": "code",
      "source": [
        "mean = np.mean(matrix)\n",
        "print(\"Середнє значення елементів матриці:\", mean)"
      ],
      "metadata": {
        "colab": {
          "base_uri": "https://localhost:8080/"
        },
        "id": "oDcKzNKTgGWR",
        "outputId": "859cd146-bcd5-4a7c-da37-16f99fe9593f"
      },
      "execution_count": null,
      "outputs": [
        {
          "output_type": "stream",
          "name": "stdout",
          "text": [
            "Середнє значення елементів матриці: 2.6666666666666665\n"
          ]
        }
      ]
    },
    {
      "cell_type": "markdown",
      "source": [
        "7. Знайти матрицю, що складена з квадратних коренів."
      ],
      "metadata": {
        "id": "H23QLN8KhDyW"
      }
    },
    {
      "cell_type": "code",
      "source": [
        "sqrt_matrix = np.sqrt(matrix)\n",
        "\n",
        "print(\"Матриця квадратних коренів:\")\n",
        "print(sqrt_matrix)"
      ],
      "metadata": {
        "colab": {
          "base_uri": "https://localhost:8080/"
        },
        "id": "nuqQNzcAhEG1",
        "outputId": "219238c9-d41f-450d-e54f-a24a9e99d00e"
      },
      "execution_count": null,
      "outputs": [
        {
          "output_type": "stream",
          "name": "stdout",
          "text": [
            "Матриця квадратних коренів:\n",
            "[[2.         1.41421356 1.41421356]\n",
            " [1.         1.73205081 2.23606798]\n",
            " [2.         1.         1.41421356]]\n"
          ]
        }
      ]
    },
    {
      "cell_type": "markdown",
      "source": [
        "8. Обчислити суму елементів кожного рядка. Відповідь записати як вектор-стовпчик"
      ],
      "metadata": {
        "id": "KV_Cv70chqsp"
      }
    },
    {
      "cell_type": "code",
      "source": [
        "row_sums = np.sum(matrix, axis=1).reshape(-1, 1)\n",
        "\n",
        "print(\"Сума елементів кожного рядка:\")\n",
        "print(row_sums)"
      ],
      "metadata": {
        "colab": {
          "base_uri": "https://localhost:8080/"
        },
        "id": "P5PHBnHyhrAQ",
        "outputId": "71f36966-c19a-4a4d-9f34-a149a59ddd79"
      },
      "execution_count": null,
      "outputs": [
        {
          "output_type": "stream",
          "name": "stdout",
          "text": [
            "Сума елементів кожного рядка:\n",
            "[[8]\n",
            " [9]\n",
            " [7]]\n"
          ]
        }
      ]
    },
    {
      "cell_type": "markdown",
      "source": [
        "9. Створити вектор, що містить 25 елементів. Заповнити числами від 0 до 9. Відсортувати числа за спаданням."
      ],
      "metadata": {
        "id": "mS9JEaqHisto"
      }
    },
    {
      "cell_type": "code",
      "source": [
        "vector = np.random.randint(0, 10, size=25)\n",
        "\n",
        "print(\"Початковий вектор:\")\n",
        "print(vector)\n",
        "\n",
        "# Сортуємо числа за спаданням\n",
        "sorted_vector = np.sort(vector)[::-1]\n",
        "\n",
        "print(\"Вектор після сортування за спаданням:\")\n",
        "print(sorted_vector)"
      ],
      "metadata": {
        "colab": {
          "base_uri": "https://localhost:8080/"
        },
        "id": "D20DoqUgitEz",
        "outputId": "bb68959e-d368-4ae5-a491-d425e7787683"
      },
      "execution_count": null,
      "outputs": [
        {
          "output_type": "stream",
          "name": "stdout",
          "text": [
            "Початковий вектор:\n",
            "[8 3 1 2 7 1 3 8 3 5 4 7 4 5 8 8 9 9 9 3 7 6 4 2 8]\n",
            "Вектор після сортування за спаданням:\n",
            "[9 9 9 8 8 8 8 8 7 7 7 6 5 5 4 4 4 3 3 3 3 2 2 1 1]\n"
          ]
        }
      ]
    },
    {
      "cell_type": "markdown",
      "source": [
        "10. Знайти моду, медіану, середнє, максимальне, мінімальне значення"
      ],
      "metadata": {
        "id": "g6j49Cewi18i"
      }
    },
    {
      "cell_type": "code",
      "source": [
        "from scipy import stats\n",
        "\n",
        "# Мода\n",
        "mode = stats.mode(vector)\n",
        "\n",
        "# Медіана\n",
        "median = np.median(vector)\n",
        "\n",
        "# Середнє\n",
        "mean = np.mean(vector)\n",
        "\n",
        "# Максимальне\n",
        "max_value = np.max(vector)\n",
        "\n",
        "# Мінімальне\n",
        "min_value = np.min(vector)\n",
        "\n",
        "print(\"Мода:\", mode)\n",
        "print(\"Медіана:\", median)\n",
        "print(\"Середнє:\", mean)\n",
        "print(\"Максимальне значення:\", max_value)\n",
        "print(\"Мінімальне значення:\", min_value)"
      ],
      "metadata": {
        "colab": {
          "base_uri": "https://localhost:8080/"
        },
        "id": "meVyKENei2ra",
        "outputId": "a7db6a8e-cb8a-4045-f403-d422828a0ff0"
      },
      "execution_count": null,
      "outputs": [
        {
          "output_type": "stream",
          "name": "stdout",
          "text": [
            "Мода: ModeResult(mode=np.int64(8), count=np.int64(5))\n",
            "Медіана: 5.0\n",
            "Середнє: 5.36\n",
            "Максимальне значення: 9\n",
            "Мінімальне значення: 1\n"
          ]
        }
      ]
    },
    {
      "cell_type": "markdown",
      "source": [
        "11. Створити дві матриці числами від 1 до 10. Обчислити суму, різницю, поелементний добуток, частку"
      ],
      "metadata": {
        "id": "Y4vZyaOckp9T"
      }
    },
    {
      "cell_type": "code",
      "source": [
        "# Створюємо дві матриці 4x4 із випадкових цілих чисел від 1 до 10\n",
        "matrix1 = np.random.randint(1, 11, size=(4, 4))\n",
        "matrix2 = np.random.randint(1, 11, size=(4, 4))\n",
        "\n",
        "print(\"Матриця 1:\")\n",
        "print(matrix1)\n",
        "\n",
        "print(\"\\nМатриця 2:\")\n",
        "print(matrix2)"
      ],
      "metadata": {
        "colab": {
          "base_uri": "https://localhost:8080/"
        },
        "id": "Ma5AgkA-mEEc",
        "outputId": "f37da6cd-8860-4648-d21c-9e7eace5d43b"
      },
      "execution_count": null,
      "outputs": [
        {
          "output_type": "stream",
          "name": "stdout",
          "text": [
            "Матриця 1:\n",
            "[[ 5  4  8  7]\n",
            " [ 2  4  9  7]\n",
            " [10  6  6  3]\n",
            " [10  2  6  4]]\n",
            "\n",
            "Матриця 2:\n",
            "[[10  7 10  1]\n",
            " [ 4  2  9  8]\n",
            " [ 5  5  9  5]\n",
            " [ 2  8  7  6]]\n"
          ]
        }
      ]
    },
    {
      "cell_type": "code",
      "source": [
        "#Сума\n",
        "matrix_sum = matrix1 + matrix2\n",
        "\n",
        "#Різниця\n",
        "matrix_diff = matrix1 - matrix2\n",
        "\n",
        "#Добуток\n",
        "matrix_product = matrix1 * matrix2\n",
        "\n",
        "#Частка\n",
        "matrix_division = np.divide(matrix1, matrix2, where=(matrix2!=0))\n",
        "\n",
        "print(\"\\nСума матриць:\")\n",
        "print(matrix_sum)\n",
        "\n",
        "print(\"\\nРізниця матриць:\")\n",
        "print(matrix_diff)\n",
        "\n",
        "print(\"\\nПоелементний добуток матриць:\")\n",
        "print(matrix_product)"
      ],
      "metadata": {
        "colab": {
          "base_uri": "https://localhost:8080/"
        },
        "id": "vn2kzdvuogBd",
        "outputId": "def74f7d-6f25-4d99-fed0-122339e78d7f"
      },
      "execution_count": 22,
      "outputs": [
        {
          "output_type": "stream",
          "name": "stdout",
          "text": [
            "\n",
            "Сума матриць:\n",
            "[[15 11 18  8]\n",
            " [ 6  6 18 15]\n",
            " [15 11 15  8]\n",
            " [12 10 13 10]]\n",
            "\n",
            "Різниця матриць:\n",
            "[[-5 -3 -2  6]\n",
            " [-2  2  0 -1]\n",
            " [ 5  1 -3 -2]\n",
            " [ 8 -6 -1 -2]]\n",
            "\n",
            "Поелементний добуток матриць:\n",
            "[[50 28 80  7]\n",
            " [ 8  8 81 56]\n",
            " [50 30 54 15]\n",
            " [20 16 42 24]]\n"
          ]
        }
      ]
    },
    {
      "cell_type": "markdown",
      "source": [
        "12. Задати вектор-рядок, що містить дійсні числа 1.0-8.0. Зробити матрицю 3*3. Помножити на вектор-рядок, що містить числа 0.0-2.0"
      ],
      "metadata": {
        "id": "8-EXAiEnpVkg"
      }
    },
    {
      "cell_type": "code",
      "source": [
        "x = np.arange(9.0)\n",
        "x"
      ],
      "metadata": {
        "colab": {
          "base_uri": "https://localhost:8080/"
        },
        "id": "-gIO3Zc6pZ3K",
        "outputId": "71a3551b-58c5-4a23-f0d0-43229caec8c4"
      },
      "execution_count": 27,
      "outputs": [
        {
          "output_type": "execute_result",
          "data": {
            "text/plain": [
              "array([0., 1., 2., 3., 4., 5., 6., 7., 8.])"
            ]
          },
          "metadata": {},
          "execution_count": 27
        }
      ]
    },
    {
      "cell_type": "code",
      "source": [
        "x1 = x.reshape((3, 3))\n",
        "x1"
      ],
      "metadata": {
        "colab": {
          "base_uri": "https://localhost:8080/"
        },
        "id": "vHgPjsE-pcPA",
        "outputId": "f5c2eaf4-2dec-4ea0-8513-1cd06ff1f8fd"
      },
      "execution_count": 28,
      "outputs": [
        {
          "output_type": "execute_result",
          "data": {
            "text/plain": [
              "array([[0., 1., 2.],\n",
              "       [3., 4., 5.],\n",
              "       [6., 7., 8.]])"
            ]
          },
          "metadata": {},
          "execution_count": 28
        }
      ]
    },
    {
      "cell_type": "code",
      "source": [
        "x2 = np.arange(3.0)\n",
        "x2"
      ],
      "metadata": {
        "colab": {
          "base_uri": "https://localhost:8080/"
        },
        "id": "y1taOE6IpjfB",
        "outputId": "62a7180d-00b4-42f2-e9a0-15e1e19eee37"
      },
      "execution_count": 29,
      "outputs": [
        {
          "output_type": "execute_result",
          "data": {
            "text/plain": [
              "array([0., 1., 2.])"
            ]
          },
          "metadata": {},
          "execution_count": 29
        }
      ]
    },
    {
      "cell_type": "code",
      "source": [
        "np.multiply(x1,x2)"
      ],
      "metadata": {
        "colab": {
          "base_uri": "https://localhost:8080/"
        },
        "id": "hzwwDfnQpnbr",
        "outputId": "bfa74ddd-bd47-4f37-b5bb-29cc8bde1dd9"
      },
      "execution_count": 30,
      "outputs": [
        {
          "output_type": "execute_result",
          "data": {
            "text/plain": [
              "array([[ 0.,  1.,  4.],\n",
              "       [ 0.,  4., 10.],\n",
              "       [ 0.,  7., 16.]])"
            ]
          },
          "metadata": {},
          "execution_count": 30
        }
      ]
    }
  ]
}